{
 "cells": [
  {
   "cell_type": "markdown",
   "metadata": {},
   "source": [
    "# import library"
   ]
  },
  {
   "cell_type": "code",
   "execution_count": 22,
   "metadata": {},
   "outputs": [],
   "source": [
    "from selenium import webdriver\n",
    "from selenium.webdriver.common.by import By\n",
    "import time\n",
    "from selenium.common.exceptions import NoSuchElementException\n",
    "from selenium.webdriver.support.ui import WebDriverWait\n",
    "from selenium.webdriver.support import expected_conditions as EC\n",
    "from underthesea import sent_tokenize, word_tokenize, pos_tag\n",
    "from selenium.webdriver.support.ui import WebDriverWait\n",
    "import re\n",
    "from keras.utils import pad_sequences\n",
    "from keras.models import load_model\n",
    "import yaml\n",
    "import numpy as np\n",
    "import pandas as pd\n",
    "from selenium.common.exceptions import TimeoutException"
   ]
  },
  {
   "cell_type": "markdown",
   "metadata": {},
   "source": [
    "# load_model"
   ]
  },
  {
   "cell_type": "code",
   "execution_count": 23,
   "metadata": {},
   "outputs": [],
   "source": [
    "model = load_model(\"model_comment.tf\")"
   ]
  },
  {
   "cell_type": "markdown",
   "metadata": {},
   "source": [
    "# read_file_dictionary_for_model"
   ]
  },
  {
   "cell_type": "code",
   "execution_count": 24,
   "metadata": {},
   "outputs": [],
   "source": [
    "def doc_tep_yaml(duong_dan):\n",
    "    try:\n",
    "        with open(duong_dan, 'r', encoding='utf-8') as file:\n",
    "            du_lieu = yaml.safe_load(file)\n",
    "        return du_lieu\n",
    "    except FileNotFoundError:\n",
    "        print(f\"Tệp {duong_dan} không tồn tại.\")\n",
    "        return None\n",
    "    except Exception as e:\n",
    "        print(f\"Có lỗi xảy ra khi đọc tệp YAML: {str(e)}\")\n",
    "        return None\n",
    "\n",
    "\n",
    "\n",
    "loaded_data = doc_tep_yaml('dictionary_yaml.yaml')"
   ]
  },
  {
   "cell_type": "markdown",
   "metadata": {},
   "source": [
    "# get_name_phone"
   ]
  },
  {
   "cell_type": "code",
   "execution_count": 25,
   "metadata": {},
   "outputs": [],
   "source": [
    "def get_name_phone(driver):\n",
    "    element = driver.find_element(By.XPATH, \"//div[@class='cate-main-container']/section[@id='categoryPage']/div[3]\")\n",
    "    element1 = element.find_elements(By.XPATH, \"//ul[@class='listproduct']/li/a[1]\")\n",
    "    return element1"
   ]
  },
  {
   "cell_type": "code",
   "execution_count": 26,
   "metadata": {},
   "outputs": [],
   "source": [
    "url = \"https://www.dienmayxanh.com/dien-thoai\""
   ]
  },
  {
   "cell_type": "code",
   "execution_count": 27,
   "metadata": {},
   "outputs": [],
   "source": [
    "\n",
    "driver = webdriver.Chrome()\n",
    "driver.get(url)\n",
    "\n",
    "for _ in range(5):\n",
    "\n",
    "    element_click = driver.find_element(By.XPATH, \"//div[@class='cate-main-container']/section[@id='categoryPage']/div[3]/div[2]\")\n",
    "    element_click = element_click.find_element(By.TAG_NAME, 'a')\n",
    "    element_click.click()\n",
    "    time.sleep(5)\n",
    "\n",
    "name_phone = get_name_phone(driver)\n",
    "list_smartphone = []\n",
    "for i in name_phone:\n",
    "    list_smartphone.append(i.get_attribute('href'))\n",
    "\n",
    "driver.quit()"
   ]
  },
  {
   "cell_type": "code",
   "execution_count": 28,
   "metadata": {},
   "outputs": [
    {
     "name": "stdout",
     "output_type": "stream",
     "text": [
      "['https://www.dienmayxanh.com/dien-thoai/iphone-15-pro-max', 'https://www.dienmayxanh.com/dien-thoai/samsung-galaxy-s23-ultra', 'https://www.dienmayxanh.com/dien-thoai/oppo-reno11-f-5g-phien-ban-chuan', 'https://www.dienmayxanh.com/dien-thoai/xiaomi-redmi-note-13', 'https://www.dienmayxanh.com/dien-thoai/vivo-y100-8-128', 'https://www.dienmayxanh.com/dien-thoai/realme-c65-8-128', 'https://www.dienmayxanh.com/dien-thoai/samsung-galaxy-a55-5g-128gb', 'https://www.dienmayxanh.com/dien-thoai/iphone-13', 'https://www.dienmayxanh.com/dien-thoai/samsung-galaxy-m54', 'https://www.dienmayxanh.com/dien-thoai/xiaomi-redmi-note-13-pro', 'https://www.dienmayxanh.com/dien-thoai/oppo-a58', 'https://www.dienmayxanh.com/dien-thoai/realme-note-50-64gb', 'https://www.dienmayxanh.com/dien-thoai/samsung-galaxy-s23-fe', 'https://www.dienmayxanh.com/dien-thoai/samsung-galaxy-a35-5g-128gb', 'https://www.dienmayxanh.com/dien-thoai/vivo-y36-128gb', 'https://www.dienmayxanh.com/dien-thoai/oppo-a18', 'https://www.dienmayxanh.com/dien-thoai/xiaomi-redmi-13c-6gb', 'https://www.dienmayxanh.com/dien-thoai/samsung-galaxy-s24-ultra-5g', 'https://www.dienmayxanh.com/dien-thoai/iphone-15-pro', 'https://www.dienmayxanh.com/dien-thoai/xiaomi-redmi-12-4gb', 'https://www.dienmayxanh.com/dien-thoai/xiaomi-redmi-a3', 'https://www.dienmayxanh.com/dien-thoai/iphone-15-plus', 'https://www.dienmayxanh.com/dien-thoai/iphone-15', 'https://www.dienmayxanh.com/dien-thoai/samsung-galaxy-s24-256gb-5g', 'https://www.dienmayxanh.com/dien-thoai/vivo-y03', 'https://www.dienmayxanh.com/dien-thoai/oppo-reno11', 'https://www.dienmayxanh.com/dien-thoai/samsung-galaxy-s24-plus-5g', 'https://www.dienmayxanh.com/dien-thoai/realme-c55', 'https://www.dienmayxanh.com/dien-thoai/iphone-11', 'https://www.dienmayxanh.com/dien-thoai/realme-c67', 'https://www.dienmayxanh.com/dien-thoai/realme-11-128gb', 'https://www.dienmayxanh.com/dien-thoai/iphone-12', 'https://www.dienmayxanh.com/dien-thoai/samsung-galaxy-a25-8gb', 'https://www.dienmayxanh.com/dien-thoai/realme-c53', 'https://www.dienmayxanh.com/dien-thoai/iphone-14-pro-max', 'https://www.dienmayxanh.com/dien-thoai/oppo-a38-6gb', 'https://www.dienmayxanh.com/dien-thoai/vivo-y17s-4-64', 'https://www.dienmayxanh.com/dien-thoai/oppo-reno11-pro', 'https://www.dienmayxanh.com/dien-thoai/samsung-galaxy-a15-5g', 'https://www.dienmayxanh.com/dien-thoai/oppo-reno10-5g-128gb', 'https://www.dienmayxanh.com/dien-thoai/xiaomi-redmi-note-13-pro-5g', 'https://www.dienmayxanh.com/dien-thoai/oppo-reno10-pro', 'https://www.dienmayxanh.com/dien-thoai/oppo-reno10-pro-plus', 'https://www.dienmayxanh.com/dien-thoai/xiaomi-14-5g-256', 'https://www.dienmayxanh.com/dien-thoai/oppo-reno8-t', 'https://www.dienmayxanh.com/dien-thoai/masstel-fami-60', 'https://www.dienmayxanh.com/dien-thoai/masstel-lux-10', 'https://www.dienmayxanh.com/dien-thoai/masstel-izi-t6', 'https://www.dienmayxanh.com/dien-thoai/masstel-izi-10', 'https://www.dienmayxanh.com/dien-thoai/realme-c51-3-64gb', 'https://www.dienmayxanh.com/dien-thoai/oppo-find-n3', 'https://www.dienmayxanh.com/dien-thoai/samsung-galaxy-z-fold5', 'https://www.dienmayxanh.com/dien-thoai/oppo-find-n3-flip-hong', 'https://www.dienmayxanh.com/dien-thoai/iphone-14-plus', 'https://www.dienmayxanh.com/dien-thoai/samsung-galaxy-s23-fe-5g-256gb', 'https://www.dienmayxanh.com/dien-thoai/iphone-14', 'https://www.dienmayxanh.com/dien-thoai/samsung-galaxy-z-flip5', 'https://www.dienmayxanh.com/dien-thoai/oppo-find-n2-flip', 'https://www.dienmayxanh.com/dien-thoai/xiaomi-13t-pro', 'https://www.dienmayxanh.com/dien-thoai/realme-11-pro-plus-5g', 'https://www.dienmayxanh.com/dien-thoai/xiaomi-13t-12gb', 'https://www.dienmayxanh.com/dien-thoai/xiaomi-redmi-note-13-pro-plus', 'https://www.dienmayxanh.com/dien-thoai/vivo-v29e-5g', 'https://www.dienmayxanh.com/dien-thoai/samsung-galaxy-a54-5g-128gb', 'https://www.dienmayxanh.com/dien-thoai/oppo-a98-5g', 'https://www.dienmayxanh.com/dien-thoai/oppo-a79-5g', 'https://www.dienmayxanh.com/dien-thoai/samsung-galaxy-a34-5g-128gb', 'https://www.dienmayxanh.com/dien-thoai/honor-x8b', 'https://www.dienmayxanh.com/dien-thoai/oppo-a78', 'https://www.dienmayxanh.com/dien-thoai/samsung-galaxy-m34-5g', 'https://www.dienmayxanh.com/dien-thoai/oppo-a60-128gb', 'https://www.dienmayxanh.com/dien-thoai/honor-x7b', 'https://www.dienmayxanh.com/dien-thoai/samsung-galaxy-m15', 'https://www.dienmayxanh.com/dien-thoai/samsung-galaxy-a24', 'https://www.dienmayxanh.com/dien-thoai/samsung-galaxy-a15-128gb', 'https://www.dienmayxanh.com/dien-thoai/vivo-y18', 'https://www.dienmayxanh.com/dien-thoai/tcl-40-nxtpaper', 'https://www.dienmayxanh.com/dien-thoai/samsung-galaxy-a14-5g', 'https://www.dienmayxanh.com/dien-thoai/samsung-galaxy-a05s-6gb', 'https://www.dienmayxanh.com/dien-thoai/tecno-spark-20c', 'https://www.dienmayxanh.com/dien-thoai/samsung-galaxy-a05', 'https://www.dienmayxanh.com/dien-thoai/oppo-a17k', 'https://www.dienmayxanh.com/dien-thoai/vivo-y02t', 'https://www.dienmayxanh.com/dien-thoai/realme-c60', 'https://www.dienmayxanh.com/dien-thoai/honor-x5-plus', 'https://www.dienmayxanh.com/dien-thoai/tcl-406s', 'https://www.dienmayxanh.com/dien-thoai/tecno-spark-go-2024', 'https://www.dienmayxanh.com/dien-thoai/nokia-8210-4g', 'https://www.dienmayxanh.com/dien-thoai/xiaomi-redmi-a2', 'https://www.dienmayxanh.com/dien-thoai/nokia-215', 'https://www.dienmayxanh.com/dien-thoai/nokia-110-4g-pro', 'https://www.dienmayxanh.com/dien-thoai/mobell-f309', 'https://www.dienmayxanh.com/dien-thoai/masstel-fami-60s', 'https://www.dienmayxanh.com/dien-thoai/nokia-105-4g-pro', 'https://www.dienmayxanh.com/dien-thoai/mobell-rock-4', 'https://www.dienmayxanh.com/dien-thoai/mobell-m539', 'https://www.dienmayxanh.com/dien-thoai/masstel-fami-50', 'https://www.dienmayxanh.com/dien-thoai/nokia-105-4g', 'https://www.dienmayxanh.com/dien-thoai/mobell-f209', 'https://www.dienmayxanh.com/dien-thoai/itel-it9210', 'https://www.dienmayxanh.com/dien-thoai/mobell-m331', 'https://www.dienmayxanh.com/dien-thoai/itel-it9010', 'https://www.dienmayxanh.com/dien-thoai/mobell-m239', 'https://www.dienmayxanh.com/dien-thoai/vivo-v30', 'https://www.dienmayxanh.com/dien-thoai/vivo-v30e', 'https://www.dienmayxanh.com/dien-thoai/tcl-505']\n"
     ]
    }
   ],
   "source": [
    "def remove_utm(url):\n",
    "    return url.split('?')[0]\n",
    "\n",
    "list_smartphone = [remove_utm(url) for url in list_smartphone]\n",
    "print(list_smartphone)"
   ]
  },
  {
   "cell_type": "markdown",
   "metadata": {},
   "source": [
    "# get_comment"
   ]
  },
  {
   "cell_type": "code",
   "execution_count": 2,
   "metadata": {},
   "outputs": [],
   "source": [
    "def classify_topic(sentence):\n",
    "    keywords_phone = {\"điện thoại\", \"smartphone\", \"máy\", 'may', 'dien thoai', 'man', 'màn'}\n",
    "    keywords_battery = {\"pin\", \"thời lượng pin\", \"sạc\", 'dung lượng', 'dung luong'}\n",
    "    keywords_service = {\"dịch vụ\", \"bảo hành\", \"khách hàng\", 'dv', 'kh', 'nhân viên', 'nhan vien', 'Mv'}\n",
    "\n",
    "    words = set(sentence.lower().split())\n",
    "    if words & keywords_phone:\n",
    "        return \"Điện thoại\"\n",
    "    elif words & keywords_battery:\n",
    "        return \"Pin\"\n",
    "    elif words & keywords_service:\n",
    "        return \"Dịch vụ\"\n",
    "    \n",
    "    # Sử dụng POS tagging để tìm danh từ\n",
    "\n",
    "    tagged_words = pos_tag(sentence)\n",
    "    for i in range(len(tagged_words) - 1):\n",
    "        word, tag = tagged_words[i]\n",
    "        next_word, next_tag = tagged_words[i + 1]\n",
    "        if tag == 'N' and next_tag == 'A':  # Tìm cặp danh từ và tính từ liền nhau\n",
    "            return word, next_word\n",
    "\n",
    "    return \"Không xác định\""
   ]
  },
  {
   "cell_type": "code",
   "execution_count": 3,
   "metadata": {},
   "outputs": [],
   "source": [
    "import matplotlib.pyplot as plt\n",
    "\n",
    "def plot_pie_chart(data, name_file):\n",
    "    # Tính toán tổng số lượng của tất cả các nhãn trong danh sách\n",
    "    total_count = len(data)\n",
    "    \n",
    "    # Tạo một từ điển để lưu trữ số lượng của mỗi nhãn\n",
    "    label_counts = {}\n",
    "    for label in data:\n",
    "        if label in label_counts:\n",
    "            label_counts[label] += 1\n",
    "        else:\n",
    "            label_counts[label] = 1\n",
    "    \n",
    "    # Tính phần trăm của mỗi nhãn\n",
    "    labels = []\n",
    "    sizes = []\n",
    "    for label, count in label_counts.items():\n",
    "        labels.append(f'{label} ({count})')  # Thêm số lượng vào nhãn\n",
    "        sizes.append(count / total_count * 100)\n",
    "    \n",
    "    # Vẽ biểu đồ tròn\n",
    "    plt.pie(sizes, labels=labels, autopct='%1.1f%%', startangle=90)  # Sử dụng autopct để hiển thị phần trăm và số lượng\n",
    "    plt.axis('equal')  # Đảm bảo biểu đồ tròn\n",
    "    plt.title(f'{name_file.split(\".\")[0]} and total {total_count}')\n",
    "    plt.show()\n"
   ]
  },
  {
   "cell_type": "code",
   "execution_count": 4,
   "metadata": {},
   "outputs": [],
   "source": [
    "def proces_input(data, word_to_id, maxlen):\n",
    "  data = word_tokenize(re.sub(r'[^\\w\\s]', '', data).lower())\n",
    "  inputs = [word_to_id[word] if word in word_to_id.keys() else 1 for word in data]\n",
    "  inputs = pad_sequences([inputs], maxlen=maxlen,padding='post',truncating='post')\n",
    "  return inputs\n",
    "\n",
    "dic1 = {0: 'positive', 1: 'negative'}\n",
    "def pre(model, text, d, loaded_data):\n",
    "\n",
    "  inputs = proces_input(text, loaded_data, 307)\n",
    "  predic = model(inputs)\n",
    "  predic = np.argmax(predic, axis=-1)\n",
    "  return d[predic[0]]\n"
   ]
  },
  {
   "cell_type": "code",
   "execution_count": null,
   "metadata": {},
   "outputs": [],
   "source": [
    "def get_text(driver, url):\n",
    "    data_all = []\n",
    "    elem1 = driver.find_elements(By.XPATH, \"/html/body/div[6]/div/div[2]/div/div/div[7]/div[2]/div/a\")\n",
    "    \n",
    "    if len(elem1) > 1:\n",
    "        number_click = int(elem1[-2].text)\n",
    "        \n",
    "        for number in range(number_click):\n",
    "            driver.get(f\"{url}/danh-gia?page={number + 1}\")\n",
    "\n",
    "            try:\n",
    "                elem3 = WebDriverWait(driver, 10).until(EC.presence_of_element_located((By.XPATH, \"/html/body/div[6]/div/div[2]/div/div/div[7]\")))\n",
    "                comments = elem3.find_elements(By.CLASS_NAME, 'cmt-txt')\n",
    "                for j in comments:\n",
    "                    if j.text:\n",
    "                        text1 = sent_tokenize(j.text)\n",
    "                        if len(text1) > 1:\n",
    "                            for s1 in text1:\n",
    "                                if len(word_tokenize(s1)) > 3:\n",
    "                                    a1 = pre(model, s1, dic1, loaded_data)\n",
    "                                    dt1 = [s1, classify_topic(s1), a1, f\"{url.split('/')[-1]}\"]            \n",
    "                                    data_all.append(dt1)\n",
    "                        else:\n",
    "                            a1 = pre(model, j.text, dic1, loaded_data)\n",
    "                            dt1 = [j.text, classify_topic(j.text), a1, f\"{url.split('/')[-1]}\"]            \n",
    "                            data_all.append(dt1)\n",
    "                    else:\n",
    "                        break\n",
    "                        \n",
    "            except NoSuchElementException:\n",
    "                print(f\"{url.split('/')[-1]} không tìm thấy bình luận nào cả\")\n",
    "    else:\n",
    "        try:\n",
    "            elem4 = WebDriverWait(driver, 10).until(EC.presence_of_element_located((By.XPATH, \"/html/body/div[6]/div/div[2]/div/div/div[7]\")))\n",
    "            comments1 = elem4.find_elements(By.CLASS_NAME, 'cmt-txt')\n",
    "            for i in comments1:\n",
    "                if i.text:\n",
    "                    text1 = sent_tokenize(i.text)\n",
    "                    if len(text1) > 1:\n",
    "                        for s in text1:\n",
    "                            if len(word_tokenize(s)) > 3:\n",
    "                                a1 = pre(model, s, dic1, loaded_data)\n",
    "                                dt1 = [s, classify_topic(s), a1, f\"{url.split('/')[-1]}\"]            \n",
    "                                data_all.append(dt1)\n",
    "               \n",
    "                    else:\n",
    "                        a1 = pre(model, i.text, dic1, loaded_data)\n",
    "                        dt1 = [i.text, classify_topic(i.text), a1, f\"{url.split('/')[-1]}\"]            \n",
    "                        data_all.append(dt1)\n",
    "                            \n",
    "                else:\n",
    "                    break\n",
    "        \n",
    "        except NoSuchElementException:\n",
    "                print(f\"{url.split('/')[-1]} không tìm thấy bình luận nào cả\")\n",
    "\n",
    "    return data_all\n"
   ]
  },
  {
   "cell_type": "code",
   "execution_count": 5,
   "metadata": {},
   "outputs": [],
   "source": [
    "# for link in list_smartphone:\n",
    "\n",
    "def check_review(driver, url):\n",
    "    try:\n",
    "        driver.set_page_load_timeout(10)\n",
    "        driver.get(url)\n",
    "        try:\n",
    "            \n",
    "            el = WebDriverWait(driver, 10).until(EC.presence_of_element_located((By.XPATH, \"/html/body/section[1]/div[3]/div[1]\")))\n",
    "            el = el.find_element(By.CLASS_NAME, \"box-flex\")\n",
    "            el = el.find_element(By.TAG_NAME, 'a')\n",
    "            el.click()\n",
    "                \n",
    "            dt = get_text(driver, url)\n",
    "            return dt\n",
    "        except NoSuchElementException:\n",
    "            print(f\"{url.split('/')[-1]} không có bình luận\")\n",
    "    except TimeoutException:\n",
    "        pass\n"
   ]
  },
  {
   "cell_type": "code",
   "execution_count": null,
   "metadata": {},
   "outputs": [],
   "source": [
    "driver = webdriver.Chrome()\n",
    "data_all1 = []\n",
    "for urls in list_smartphone:\n",
    "    dtt = check_review(driver, urls)\n",
    "    if dtt is not None:\n",
    "        data_all1.extend(dtt)\n",
    "df = pd.DataFrame(data_all1, columns=['sentence', 'title', 'prediction', 'name phone'])\n",
    "df.to_excel('all_phone.xlsx', index=False)\n",
    "driver.quit()"
   ]
  },
  {
   "cell_type": "markdown",
   "metadata": {},
   "source": [
    "# read_file_name_phone"
   ]
  },
  {
   "cell_type": "code",
   "execution_count": 6,
   "metadata": {},
   "outputs": [],
   "source": [
    "# def write_links_to_file(links, filename):\n",
    "#     with open(filename, 'w') as file:\n",
    "#         for link in links:\n",
    "#             file.write(link + '\\n')\n",
    "\n",
    "# Đọc từng dòng trong file\n",
    "# def read_links_from_file(filename):\n",
    "#     with open(filename, 'r') as file:\n",
    "#         links = file.readlines()\n",
    "#         links = [link.strip() for link in links]  # Xóa ký tự xuống dòng\n",
    "#     return links\n",
    "\n",
    "# filename = \"links.txt\"\n",
    "\n",
    "# Viết danh sách các đường link vào file\n",
    "# write_links_to_file(list_smartphone, filename)\n",
    "\n",
    "# Đọc từng dòng trong file và in ra màn hình\n"
   ]
  },
  {
   "cell_type": "code",
   "execution_count": 7,
   "metadata": {},
   "outputs": [],
   "source": [
    "# list_smartphone = []\n",
    "# read_links = read_links_from_file(filename)\n",
    "# for link in read_links:\n",
    "#     list_smartphone.append(link)\n",
    "# print(list_smartphone)"
   ]
  },
  {
   "cell_type": "markdown",
   "metadata": {},
   "source": [
    "# draw a chart"
   ]
  },
  {
   "cell_type": "code",
   "execution_count": null,
   "metadata": {},
   "outputs": [],
   "source": [
    "# import pandas as pd\n",
    "# file_path = \"all_phone.xlsx\"\n",
    "# df = pd.read_excel(file_path)\n",
    "\n",
    "# df = df['prediction']\n",
    "# plot_pie_chart(df, file_path)"
   ]
  },
  {
   "cell_type": "code",
   "execution_count": null,
   "metadata": {},
   "outputs": [],
   "source": [
    "# import pandas as pd\n",
    "# file_path = \"samsung.xlsx\"\n",
    "# df = pd.read_excel(file_path)\n",
    "\n",
    "# df = df['prediction']\n",
    "# plot_pie_chart(df, file_path)"
   ]
  }
 ],
 "metadata": {
  "kernelspec": {
   "display_name": "crawl_data",
   "language": "python",
   "name": "python3"
  },
  "language_info": {
   "codemirror_mode": {
    "name": "ipython",
    "version": 3
   },
   "file_extension": ".py",
   "mimetype": "text/x-python",
   "name": "python",
   "nbconvert_exporter": "python",
   "pygments_lexer": "ipython3",
   "version": "3.10.11"
  }
 },
 "nbformat": 4,
 "nbformat_minor": 2
}
